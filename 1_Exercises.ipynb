{
 "cells": [
  {
   "cell_type": "markdown",
   "id": "38e188a5",
   "metadata": {},
   "source": [
    "# Exercise 00\n",
    "Write a piece of code that allocates a list of 20 integers and initializes each element by its index multiplied by 5. Print the result."
   ]
  },
  {
   "cell_type": "code",
   "execution_count": 1,
   "id": "01aa4f35",
   "metadata": {},
   "outputs": [
    {
     "name": "stdout",
     "output_type": "stream",
     "text": [
      "List of integers initialized by index multiplied by 5:\n",
      "[0, 5, 10, 15, 20, 25, 30, 35, 40, 45, 50, 55, 60, 65, 70, 75, 80, 85, 90, 95]\n"
     ]
    }
   ],
   "source": [
    "numbers = [i * 5 for i in range(20)]\n",
    "\n",
    "print(\"List of integers initialized by index multiplied by 5:\")\n",
    "print(numbers)"
   ]
  },
  {
   "cell_type": "markdown",
   "id": "529d91ae",
   "metadata": {},
   "source": [
    "# Exercise 01\n",
    "Define a function that takes an integer as input, prints  all integers that it is divisable by, and returns the largest one."
   ]
  },
  {
   "cell_type": "code",
   "execution_count": 54,
   "id": "30e79132",
   "metadata": {},
   "outputs": [
    {
     "name": "stdout",
     "output_type": "stream",
     "text": [
      "1\n",
      "7\n",
      "The largest divisor is: 7\n"
     ]
    }
   ],
   "source": [
    "def find_divisors(n):\n",
    "    divisors = []\n",
    "    \n",
    "    for i in range(1, n + 1):\n",
    "        if n % i == 0:\n",
    "            divisors.append(i)\n",
    "            print(i)\n",
    "\n",
    "    if divisors:\n",
    "        return max(divisors)\n",
    "    return None\n",
    "\n",
    "result = find_divisors(7)\n",
    "print(\"The largest divisor is:\", result)\n"
   ]
  },
  {
   "cell_type": "markdown",
   "id": "cfbe30d4",
   "metadata": {},
   "source": [
    "# Exercise 02\n",
    "- create a dictionary with 6 keys and values of your choice\n",
    "- write a function that takes a dictionary and a value as input and returns whether the value occurs as a key in the dictionary\n",
    "- write a function that takes a dictionary as input, and returns the dictionary but the keys are swapped with their values (resolve the issue if a value occurs twice!)"
   ]
  },
  {
   "cell_type": "code",
   "execution_count": 45,
   "id": "2123f1c6",
   "metadata": {},
   "outputs": [
    {
     "ename": "TypeError",
     "evalue": "is_value_a_key() missing 1 required positional argument: 'value'",
     "output_type": "error",
     "traceback": [
      "\u001b[1;31m---------------------------------------------------------------------------\u001b[0m",
      "\u001b[1;31mTypeError\u001b[0m                                 Traceback (most recent call last)",
      "Cell \u001b[1;32mIn[45], line 25\u001b[0m\n\u001b[0;32m     22\u001b[0m     \u001b[38;5;28;01mreturn\u001b[39;00m swapped_dict\n\u001b[0;32m     24\u001b[0m value_to_check \u001b[38;5;241m=\u001b[39m \u001b[38;5;124m'\u001b[39m\u001b[38;5;124m7m\u001b[39m\u001b[38;5;124m'\u001b[39m\n\u001b[1;32m---> 25\u001b[0m \u001b[38;5;28mprint\u001b[39m(\u001b[38;5;124mf\u001b[39m\u001b[38;5;124m\"\u001b[39m\u001b[38;5;124mIs \u001b[39m\u001b[38;5;124m'\u001b[39m\u001b[38;5;132;01m{\u001b[39;00mvalue_to_check\u001b[38;5;132;01m}\u001b[39;00m\u001b[38;5;124m'\u001b[39m\u001b[38;5;124m a key? \u001b[39m\u001b[38;5;132;01m{\u001b[39;00mis_value_a_key(value_to_check)\u001b[38;5;132;01m}\u001b[39;00m\u001b[38;5;124m\"\u001b[39m)\n\u001b[0;32m     27\u001b[0m swapped \u001b[38;5;241m=\u001b[39m swap_keys_and_values\n\u001b[0;32m     28\u001b[0m \u001b[38;5;28mprint\u001b[39m(\u001b[38;5;124m\"\u001b[39m\u001b[38;5;124mSwapped dictionary:\u001b[39m\u001b[38;5;124m\"\u001b[39m, swapped)\n",
      "\u001b[1;31mTypeError\u001b[0m: is_value_a_key() missing 1 required positional argument: 'value'"
     ]
    }
   ],
   "source": [
    "thisDict = {\n",
    "    'color':'green',\n",
    "    'height':'7m',\n",
    "    'year':'1975',\n",
    "    'category':'height',\n",
    "    'size':'big',\n",
    "    'owner':'Zhang'}\n",
    "\n",
    "def whether_is_value_a_key(dictionary, value):\n",
    "    \"\"\"Check if the value occurs as a key in the dictionary.\"\"\"\n",
    "    return value in dictionary\n",
    "    \n",
    "def swap_keys_and_values(dictionary):\n",
    "    swapped_dict = {}\n",
    "    \n",
    "    for key, value in dictionary.items():\n",
    "        if value not in swapped_dict:\n",
    "            swapped_dict[value] = [key]\n",
    "        else:\n",
    "            swapped_dict[value].append(key)\n",
    "    \n",
    "    return swapped_dict\n",
    "\n",
    "value_to_check = '7m'\n",
    "print(f\"Is '{value_to_check}' a key? {is_value_a_key(value_to_check)}\")\n",
    "\n",
    "swapped = swap_keys_and_values\n",
    "print(\"Swapped dictionary:\", swapped)\n"
   ]
  },
  {
   "cell_type": "markdown",
   "id": "b4b4e426",
   "metadata": {},
   "source": [
    "# Exercise 03\n",
    "Define a function that creates a dictionary of the first n fibonacci numbers as values paired with their indices as keys. "
   ]
  },
  {
   "cell_type": "code",
   "execution_count": 16,
   "id": "7845b5a4",
   "metadata": {},
   "outputs": [
    {
     "name": "stdout",
     "output_type": "stream",
     "text": [
      "{0: 0, 1: 1, 2: 1, 3: 2, 4: 3, 5: 5, 6: 8, 7: 13, 8: 21, 9: 34, 10: 55, 11: 89, 12: 144}\n"
     ]
    }
   ],
   "source": [
    "def fibonacci_dict(n):\n",
    "    \n",
    "    fib_dict = {}\n",
    "    n1 = 0\n",
    "    n2 = 1\n",
    "    \n",
    "    for i in range(n):\n",
    "        fib_dict[i] = n1\n",
    "        m = n1 + n2\n",
    "        n1 = n2\n",
    "        n2 = m\n",
    "        \n",
    "    return fib_dict\n",
    "\n",
    "nf = fibonacci_dict(13)\n",
    "\n",
    "print(nf)"
   ]
  }
 ],
 "metadata": {
  "kernelspec": {
   "display_name": "Python 3 (ipykernel)",
   "language": "python",
   "name": "python3"
  },
  "language_info": {
   "codemirror_mode": {
    "name": "ipython",
    "version": 3
   },
   "file_extension": ".py",
   "mimetype": "text/x-python",
   "name": "python",
   "nbconvert_exporter": "python",
   "pygments_lexer": "ipython3",
   "version": "3.12.7"
  }
 },
 "nbformat": 4,
 "nbformat_minor": 5
}
